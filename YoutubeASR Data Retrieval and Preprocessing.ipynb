{
 "cells": [
  {
   "cell_type": "code",
   "execution_count": 3,
   "metadata": {},
   "outputs": [],
   "source": [
    "from youtube_transcript_api import YouTubeTranscriptApi\n",
    "import json \n",
    "\n",
    "m2e2_metadata_json = json.load(open('/Users/shoya.yoshida/AIDA/data_labeling/video_m2e2.json'))\n",
    "\n",
    "vidID2vid_name = {}\n",
    "\n",
    "for key, vals in m2e2_metadata_json.items():\n",
    "    vid_name = key.replace('|','').replace(';','').replace('%','').replace('$','').replace('/','').replace(',','').replace(\"'\",'').replace(':','').replace('?','').replace('\"','').replace('.','')\n",
    "    vid_id = vals['id'].split('?v=')[-1]\n",
    "    \n",
    "    vidID2vid_name[vid_id] = vid_name\n"
   ]
  },
  {
   "cell_type": "code",
   "execution_count": 4,
   "metadata": {},
   "outputs": [
    {
     "data": {
      "text/plain": [
       "2046"
      ]
     },
     "execution_count": 4,
     "metadata": {},
     "output_type": "execute_result"
    }
   ],
   "source": [
    "len(vidID2vid_name)"
   ]
  },
  {
   "cell_type": "code",
   "execution_count": 10,
   "metadata": {
    "scrolled": true
   },
   "outputs": [
    {
     "name": "stdout",
     "output_type": "stream",
     "text": [
      "0\n",
      "50\n",
      "100\n",
      "150\n",
      "200\n",
      "250\n",
      "300\n",
      "350\n",
      "400\n",
      "450\n",
      "500\n",
      "550\n",
      "600\n",
      "650\n",
      "700\n",
      "750\n",
      "800\n",
      "850\n",
      "900\n",
      "950\n",
      "1000\n",
      "1050\n",
      "1100\n",
      "1150\n",
      "1200\n",
      "1250\n",
      "1300\n",
      "1350\n",
      "1400\n",
      "1450\n",
      "1500\n",
      "1550\n",
      "1600\n",
      "1650\n",
      "1700\n",
      "1750\n",
      "1800\n",
      "1850\n",
      "1900\n",
      "1950\n",
      "2000\n"
     ]
    }
   ],
   "source": [
    "vid_name2transcript = {}\n",
    "i = 0 \n",
    "for vidID, vid_name in vidID2vid_name.items():\n",
    "    try:\n",
    "        transcript = YouTubeTranscriptApi.get_transcript(vidID,languages=['en']) \n",
    "        vid_name2transcript[vid_name] = transcript\n",
    "    except Exception as e:\n",
    "        pass \n",
    "    if i%50==0:\n",
    "        print(i)\n",
    "    i+=1 \n",
    "        \n"
   ]
  },
  {
   "cell_type": "code",
   "execution_count": 11,
   "metadata": {},
   "outputs": [],
   "source": [
    "import json\n",
    "with open('video_name2ASR.json', 'w') as f:\n",
    "    json.dump(vid_name2transcript, f)\n"
   ]
  },
  {
   "cell_type": "code",
   "execution_count": 12,
   "metadata": {},
   "outputs": [
    {
     "data": {
      "text/plain": [
       "1069"
      ]
     },
     "execution_count": 12,
     "metadata": {},
     "output_type": "execute_result"
    }
   ],
   "source": [
    "len(vid_name2transcript)"
   ]
  },
  {
   "cell_type": "code",
   "execution_count": 16,
   "metadata": {},
   "outputs": [
    {
     "data": {
      "text/plain": [
       "'France Spain on lockdown over coronavirus'"
      ]
     },
     "execution_count": 16,
     "metadata": {},
     "output_type": "execute_result"
    }
   ],
   "source": [
    "list(vid_name2transcript.keys())[0]"
   ]
  },
  {
   "cell_type": "code",
   "execution_count": 17,
   "metadata": {
    "scrolled": true
   },
   "outputs": [
    {
     "data": {
      "text/plain": [
       "[{'text': \"France and Spain are following Italy's\",\n",
       "  'start': 0.469,\n",
       "  'duration': 5.591},\n",
       " {'text': 'lead putting a halt to normal life as',\n",
       "  'start': 3.3,\n",
       "  'duration': 4.68},\n",
       " {'text': 'the spread of the coronavirus', 'start': 6.06, 'duration': 5.039},\n",
       " {'text': 'accelerates in Europe France announced',\n",
       "  'start': 7.98,\n",
       "  'duration': 5.279},\n",
       " {'text': 'Saturday that it will shut most shops',\n",
       "  'start': 11.099,\n",
       "  'duration': 4.861},\n",
       " {'text': 'restaurants and entertainment sites from',\n",
       "  'start': 13.259,\n",
       "  'duration': 5.1},\n",
       " {'text': 'midnight on Saturday urging people to',\n",
       "  'start': 15.96,\n",
       "  'duration': 5.13},\n",
       " {'text': 'stay home as much as possible French',\n",
       "  'start': 18.359,\n",
       "  'duration': 4.861},\n",
       " {'text': 'officials said more than 90 people had',\n",
       "  'start': 21.09,\n",
       "  'duration': 5.46},\n",
       " {'text': 'died in France and almost 4,500 were now',\n",
       "  'start': 23.22,\n",
       "  'duration': 5.91},\n",
       " {'text': 'infected with the French Prime Minister',\n",
       "  'start': 26.55,\n",
       "  'duration': 4.319},\n",
       " {'text': 'saying the government had been left with',\n",
       "  'start': 29.13,\n",
       "  'duration': 4.199},\n",
       " {'text': 'no choice because too many people were',\n",
       "  'start': 30.869,\n",
       "  'duration': 4.861},\n",
       " {'text': 'still out in the streets and not doing',\n",
       "  'start': 33.329,\n",
       "  'duration': 5.421},\n",
       " {'text': 'enough social distancing cinema', 'start': 35.73, 'duration': 6.36},\n",
       " {'text': 'discotheque and over in Spain the second',\n",
       "  'start': 38.75,\n",
       "  'duration': 5.079},\n",
       " {'text': 'hardest hit country in Europe after',\n",
       "  'start': 42.09,\n",
       "  'duration': 5.37},\n",
       " {'text': 'Italy with nearly 200 deaths so far will',\n",
       "  'start': 43.829,\n",
       "  'duration': 6.691},\n",
       " {'text': 'be under a 15-day lockdown with some',\n",
       "  'start': 47.46,\n",
       "  'duration': 6.11},\n",
       " {'text': 'limits on movement already happening',\n",
       "  'start': 50.52,\n",
       "  'duration': 5.49},\n",
       " {'text': \"implement the president's vision the\",\n",
       "  'start': 53.57,\n",
       "  'duration': 4.78},\n",
       " {'text': 'shutdown comes as US Vice President Mike',\n",
       "  'start': 56.01,\n",
       "  'duration': 4.979},\n",
       " {'text': 'Pence announced on Saturday that the US',\n",
       "  'start': 58.35,\n",
       "  'duration': 5.31},\n",
       " {'text': 'was extending a European travel ban to',\n",
       "  'start': 60.989,\n",
       "  'duration': 5.851},\n",
       " {'text': 'include Britain and Ireland to slow the',\n",
       "  'start': 63.66,\n",
       "  'duration': 5.459},\n",
       " {'text': 'spread of the corona virus outbreak the',\n",
       "  'start': 66.84,\n",
       "  'duration': 4.11},\n",
       " {'text': 'president has made a decision to suspend',\n",
       "  'start': 69.119,\n",
       "  'duration': 3.93},\n",
       " {'text': 'all travel to the United Kingdom and',\n",
       "  'start': 70.95,\n",
       "  'duration': 6.09},\n",
       " {'text': 'Ireland effective midnight Monday night',\n",
       "  'start': 73.049,\n",
       "  'duration': 5.671},\n",
       " {'text': 'Eastern Standard Time', 'start': 77.04, 'duration': 6.03},\n",
       " {'text': 'again Americans in the UK or Ireland can',\n",
       "  'start': 78.72,\n",
       "  'duration': 6.57},\n",
       " {'text': 'come home legal residents can come home',\n",
       "  'start': 83.07,\n",
       "  'duration': 4.77},\n",
       " {'text': 'but as the secretary will detail they',\n",
       "  'start': 85.29,\n",
       "  'duration': 3.899},\n",
       " {'text': 'will be funneled through specific',\n",
       "  'start': 87.84,\n",
       "  'duration': 4.11},\n",
       " {'text': 'airports and process on Saturday health',\n",
       "  'start': 89.189,\n",
       "  'duration': 5.07},\n",
       " {'text': 'authorities in England announced 10 more',\n",
       "  'start': 91.95,\n",
       "  'duration': 5.059},\n",
       " {'text': 'deaths caused by Kovan 19 almost',\n",
       "  'start': 94.259,\n",
       "  'duration': 5.22},\n",
       " {'text': 'doubling the number of fatalities in',\n",
       "  'start': 97.009,\n",
       "  'duration': 5.671},\n",
       " {'text': 'Britain since Friday', 'start': 99.479, 'duration': 3.201}]"
      ]
     },
     "execution_count": 17,
     "metadata": {},
     "output_type": "execute_result"
    }
   ],
   "source": [
    "vid_name2transcript['France Spain on lockdown over coronavirus']"
   ]
  },
  {
   "cell_type": "code",
   "execution_count": null,
   "metadata": {},
   "outputs": [],
   "source": [
    "import numpy as np \n",
    "import json \n",
    "import pandas as pd \n",
    "import os \n",
    "def format_dictionary_to_csv(clips_folder_path,vid_name2transcript_path,videoID2feature_paths):\n",
    "    video2feature_paths = json.load(open(videoID2feature_paths))\n",
    "    vid_name2transcript = json.load(open(vid_name2transcript_path))\n",
    "    video_files = [s for s in os.listdir(clips_folder_path) if s.endswith('.mp4')] \n",
    "    df_values = [] \n",
    "    for vid_name, captions in vid_name2transcript.items():\n",
    "        vid_name += '.mp4'\n",
    "        if vid_name in video_files:\n",
    "            \n",
    "            # check that the caption start times are within the video length - there are some where ASR and the video don't match up\n",
    "            max_caption_start = max([c['start'] for c in captions])\n",
    "            vid_feature = np.load(video2feature_paths[vid_name]['2d'])\n",
    "            if max_caption_start >= vid_feature.shape[0]:\n",
    "                print(\"feature length doesn't match up for {}\".format(vid_name))\n",
    "                continue\n",
    "            \n",
    "            for caption in captions:\n",
    "                df_values.append((vid_name,caption['text'],caption['start'],caption['start']+caption['duration']))\n",
    "    df = pd.DataFrame(df_values,columns=['video_id','text','start','end'])\n",
    "    df.to_csv('m2e2_video_captions_asr.csv',index=False)\n",
    "    "
   ]
  },
  {
   "cell_type": "code",
   "execution_count": null,
   "metadata": {},
   "outputs": [],
   "source": [
    "format_dictionary_to_csv(\"/kiwi-data/users/shoya/AIDA/m2e2_data\",\"/kiwi-data/users/shoya/AIDA/video_name2ASR.json\",\"/kiwi-data/users/shoya/AIDA/videoID2feature_paths.json\")\n",
    "\n",
    "# /kiwi-data/users/shoya/AIDA/videoID2feature_paths.json\n",
    "\n"
   ]
  }
 ],
 "metadata": {
  "kernelspec": {
   "display_name": "Python 3",
   "language": "python",
   "name": "python3"
  },
  "language_info": {
   "codemirror_mode": {
    "name": "ipython",
    "version": 3
   },
   "file_extension": ".py",
   "mimetype": "text/x-python",
   "name": "python",
   "nbconvert_exporter": "python",
   "pygments_lexer": "ipython3",
   "version": "3.8.3"
  }
 },
 "nbformat": 4,
 "nbformat_minor": 4
}
