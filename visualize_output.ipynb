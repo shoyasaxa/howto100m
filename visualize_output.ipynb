{
 "cells": [
  {
   "cell_type": "markdown",
   "metadata": {},
   "source": [
    "### A notebook to query the trained embedding with the test set to qualitatively evaluate the text-video retrieval"
   ]
  },
  {
   "cell_type": "code",
   "execution_count": 23,
   "metadata": {},
   "outputs": [],
   "source": [
    "import torch as th\n",
    "from torch.utils.data import DataLoader\n",
    "import numpy as np\n",
    "import torch.optim as optim\n",
    "from args import get_args\n",
    "import random\n",
    "import os\n",
    "from model import Net\n",
    "from metrics import compute_metrics, print_computed_metrics\n",
    "from loss import MaxMarginRankingLoss\n",
    "from gensim.models.keyedvectors import KeyedVectors\n",
    "import pickle\n",
    "from m2e2_dataloader import M2E2DataLoader\n",
    "import pandas as pd \n",
    "import json"
   ]
  },
  {
   "cell_type": "code",
   "execution_count": 3,
   "metadata": {},
   "outputs": [
    {
     "name": "stdout",
     "output_type": "stream",
     "text": [
      "Loading word vectors: data/GoogleNews-vectors-negative300.bin\n",
      "done\n"
     ]
    }
   ],
   "source": [
    "word2vec_path='data/GoogleNews-vectors-negative300.bin'\n",
    "\n",
    "print('Loading word vectors: {}'.format(word2vec_path))\n",
    "we = KeyedVectors.load_word2vec_format(word2vec_path, binary=True)\n",
    "print('done')"
   ]
  },
  {
   "cell_type": "code",
   "execution_count": 4,
   "metadata": {},
   "outputs": [],
   "source": [
    "sentences_path = \"/kiwi-data/users/shoya/AIDA/event_occurences_video_and_text_pairs.json\"\n",
    "max_words = 20\n",
    "we_dim = 300 \n",
    "batch_size=256\n",
    "batch_size_val=3500\n",
    "num_workers = 4\n",
    "\n",
    "dataset_val_m2e2 = M2E2DataLoader(\n",
    "    csv=\"/home/shoya/howto100m/data_paths_test.csv\",\n",
    "    sentences=sentences_path,\n",
    "    we=we,\n",
    "    max_words=max_words,\n",
    "    we_dim=we_dim,\n",
    ")\n",
    "dataloader_val_m2e2 = DataLoader(\n",
    "    dataset_val_m2e2,\n",
    "    batch_size=batch_size_val,\n",
    "    num_workers=num_workers,\n",
    "    shuffle=False,\n",
    ")"
   ]
  },
  {
   "cell_type": "code",
   "execution_count": 5,
   "metadata": {},
   "outputs": [],
   "source": [
    "net = Net(\n",
    "    video_dim=4096,\n",
    "    embd_dim=6144,\n",
    "    we_dim=300,\n",
    "    n_pair=1,\n",
    "    max_words=max_words,\n",
    "    sentence_dim=-1,\n",
    ")\n",
    "\n",
    "net.load_checkpoint('e31.pth')"
   ]
  },
  {
   "cell_type": "code",
   "execution_count": 6,
   "metadata": {},
   "outputs": [
    {
     "data": {
      "text/plain": [
       "Net(\n",
       "  (text_pooling): Sentence_Maxpool(\n",
       "    (fc): Linear(in_features=300, out_features=6144, bias=True)\n",
       "  )\n",
       "  (GU_text): Gated_Embedding_Unit(\n",
       "    (fc): Linear(in_features=6144, out_features=6144, bias=True)\n",
       "    (cg): Context_Gating(\n",
       "      (fc): Linear(in_features=6144, out_features=6144, bias=True)\n",
       "      (batch_norm): BatchNorm1d(6144, eps=1e-05, momentum=0.1, affine=True, track_running_stats=True)\n",
       "    )\n",
       "  )\n",
       "  (GU_video): Gated_Embedding_Unit(\n",
       "    (fc): Linear(in_features=4096, out_features=6144, bias=True)\n",
       "    (cg): Context_Gating(\n",
       "      (fc): Linear(in_features=6144, out_features=6144, bias=True)\n",
       "      (batch_norm): BatchNorm1d(6144, eps=1e-05, momentum=0.1, affine=True, track_running_stats=True)\n",
       "    )\n",
       "  )\n",
       ")"
      ]
     },
     "execution_count": 6,
     "metadata": {},
     "output_type": "execute_result"
    }
   ],
   "source": [
    "net.eval() \n",
    "net.cuda()"
   ]
  },
  {
   "cell_type": "code",
   "execution_count": 8,
   "metadata": {},
   "outputs": [],
   "source": [
    "batch = next(iter(dataloader_val_m2e2))"
   ]
  },
  {
   "cell_type": "code",
   "execution_count": 11,
   "metadata": {},
   "outputs": [],
   "source": [
    "text = batch['text'].cuda() \n",
    "video = batch['video'].cuda() "
   ]
  },
  {
   "cell_type": "code",
   "execution_count": 13,
   "metadata": {},
   "outputs": [],
   "source": [
    "output = net(video, text)\n",
    "output = output.cpu().detach().numpy()"
   ]
  },
  {
   "cell_type": "code",
   "execution_count": 40,
   "metadata": {},
   "outputs": [],
   "source": [
    "eval_paths = pd.read_csv(\"/home/shoya/howto100m/data_paths_test.csv\")\n",
    "eval_file_names = eval_paths['video_id'].values\n",
    "video2sentence = json.load(open(sentences_path))"
   ]
  },
  {
   "cell_type": "code",
   "execution_count": 68,
   "metadata": {
    "scrolled": false
   },
   "outputs": [
    {
     "name": "stdout",
     "output_type": "stream",
     "text": [
      "============= Test Sample 1 =============\n",
      "Query Sentence: ['US President Donald Trump has told his citizens they should brace for \" painful \" weeks ahead .']\n",
      "Corresponding Video: Coronavirus Trump warns of very painful weeks ahead - BBC News clipped_23.557_86.748.mp4\n",
      "Correctly Guessed on Index 1\n",
      "\n",
      "Guess 1: Coronavirus President Trump Cuts US Funding to WHO clipped_0_38.157.mp4\n",
      "Guess 2: Coronavirus Trump warns of very painful weeks ahead - BBC News clipped_23.557_86.748.mp4\n",
      "Guess 3: Blasts Heard at Ashraf Ghani Inauguration as Afghan President clipped_38.802_46.198.mp4\n",
      "Guess 4: Senate Committee Holds Hearing into Fort Hood Attack clipped_116.027_155.277.mp4\n",
      "Guess 5: Prince William attends Manchester attack remembrance service in UK clipped_19.004_30.04.mp4\n",
      "\n",
      "============= Test Sample 2 =============\n",
      "Query Sentence: [\"Police officers and army personnel in Mosul , Kirkuk and Ramadi queued to cast their votes two days before the rest of the nation ' s voters can go to the polls to elect a new parliament .\"]\n",
      "Corresponding Video: Early voting for Iraq military ahead of 12 May parliamentary elections  Voice of America clipped_4.627_30.002.mp4\n",
      "Correctly Guessed on Index 27\n",
      "\n",
      "Guess 1: Mass protests and arrests across US over George Floyd death - BBC News clipped_150.527_165.01.mp4\n",
      "Guess 2: Dramatic Eyewitness Footage Captures New Orleans Hard Rock Hotel Collapse Ensuing Chaos clipped_94.264_103.592.mp4\n",
      "Guess 3: Indian Army Troops Seen Moving Towards Border After Clash With China clipped_0.434_32.44.mp4\n",
      "Guess 4: Line of Trucks Stranded as Iran Closes Border Amid Coronavirus Outbreak clipped_0.503_35.42.mp4\n",
      "Guess 5: Palestinian Protesters Clash With Israeli Soldiers clipped_0.053_26.453.mp4\n",
      "\n",
      "============= Test Sample 3 =============\n",
      "Query Sentence: ['Medical tents were set up outside Citizens Bank Park in Philadelphia as possible future testing stations for the new coronavirus .']\n",
      "Corresponding Video: Medical Tents Set up Outside Philadelphia as Possible Coronavirus Screening Facilities clipped_0.315_35.544.mp4\n",
      "Correctly Guessed on Index 4\n",
      "\n",
      "Guess 1: South Korean Military Boosts Mask Manufacturing for Coronavirus clipped_0.265_26.444.mp4\n",
      "Guess 2: Hong Kong Protesters Clash with Police at Subway Station clipped_37.027_90.389.mp4\n",
      "Guess 3: Coronavirus General Motors Workers in Michigan Make Masks clipped_9.315_13.838.mp4\n",
      "Guess 4: Italy Uses Snow Cannons to Disinfect Villages Amid Coronavirus Lockdown clipped_4.002_22.231.mp4\n",
      "Guess 5: Medical Tents Set up Outside Philadelphia as Possible Coronavirus Screening Facilities clipped_0.315_35.544.mp4\n",
      "\n",
      "============= Test Sample 4 =============\n",
      "Query Sentence: ['Tens of thousands of people have been protesting across Australia in support of the Black Lives Matter movement , following the death of George Floyd .']\n",
      "Corresponding Video: Australia protests highlight indigenous deaths - BBC News clipped_0.54_70.005.mp4\n",
      "Correctly Guessed on Index 0\n",
      "\n",
      "Guess 1: Australia protests highlight indigenous deaths - BBC News clipped_0.54_70.005.mp4\n",
      "Guess 2: Sudan protest Demonstrators continue sit-in despite crackdown  - BBC News clipped_0.053_37.889.mp4\n",
      "Guess 3: Coronavirus US faced with protests amid pressure to reopen - BBC News clipped_102.335_171.335.mp4\n",
      "Guess 4: Police Fire Tear Gas Block Exit at Anti-Racism Demonstration in France clipped_0_58.759.mp4\n",
      "Guess 5: More US police officers charged over George Floyd death as protests continue - BBC News clipped_535.963_642.648.mp4\n",
      "\n",
      "============= Test Sample 5 =============\n",
      "Query Sentence: [\"CCTV footage broadcast by news channel Al Arabiya shows the moment a projectile struck an airport in Saudi Arabia ' s Abha International Airport , located 200 kilometers from the border with Yemen .\"]\n",
      "Corresponding Video: Houthis Strike Saudi Arabia Airport Close to Yemen Border clipped_0.002_8.961.mp4\n",
      "Correctly Guessed on Index 42\n",
      "\n",
      "Guess 1: Coronavirus Deserted Roads in Saudi Arabias Holy City Mecca clipped_41.474_55.91.mp4\n",
      "Guess 2: Coronavirus Deserted Roads in Saudi Arabias Holy City Mecca clipped_18.691_22.231.mp4\n",
      "Guess 3: Hiroshima atomic bomb Survivor recalls horrors - BBC News clipped_0.011_17.147.mp4\n",
      "Guess 4: Coronavirus How to fly during a pandemic - BBC News clipped_75.106_77.711.mp4\n",
      "Guess 5: Chinas new island in the South China Sea - BBC News clipped_11.765_20.252.mp4\n",
      "\n",
      "============= Test Sample 6 =============\n",
      "Query Sentence: [\"Here BBC Health and Science Correspondent , Laura Foster , has been to Southend Airport to show you what you need to do if you ' re thinking of catching a flight .\"]\n",
      "Corresponding Video: Coronavirus How to fly during a pandemic - BBC News clipped_22.631_25.523.mp4\n",
      "Correctly Guessed on Index 68\n",
      "\n",
      "Guess 1: Coronavirus President Trump Cuts US Funding to WHO clipped_0_38.157.mp4\n",
      "Guess 2: New Zealand Mosque Attacks Send Shock Waves Throughout Muslim World clipped_63.389_86.389.mp4\n",
      "Guess 3: Senate Committee Holds Hearing into Fort Hood Attack clipped_116.027_155.277.mp4\n",
      "Guess 4: Hong Kong protests China condemns horrendous incidents - BBC News clipped_23.426_51.592.mp4\n",
      "Guess 5: Clashes erupted at the Chinese University of Hong Kong - BBC News clipped_285.077_500.027.mp4\n",
      "\n",
      "============= Test Sample 7 =============\n",
      "Query Sentence: ['👉 Riot police threw tear gas and protesters responded by throwing Molotov cocktails and setting up barricades made of bricks .']\n",
      "Corresponding Video: Police and Protesters Clash at Hong Kong Polytechnic University clipped_31.001_38.468.mp4\n",
      "Correctly Guessed on Index 0\n",
      "\n",
      "Guess 1: Police and Protesters Clash at Hong Kong Polytechnic University clipped_31.001_38.468.mp4\n",
      "Guess 2: Israeli Security Forces Clash with Palestinian Protesters in West Bank clipped_3.002_5.815.mp4\n",
      "Guess 3: Malawi Opposition Supporters Clash with Police as Election Results Challenged clipped_11.38_23.505.mp4\n",
      "Guess 4: China moves to impose controversial Hong Kong security law - BBC News clipped_99.426_119.176.mp4\n",
      "Guess 5: Police and Protesters Clash at Hong Kong Polytechnic University clipped_0_13.825.mp4\n",
      "\n",
      "============= Test Sample 8 =============\n",
      "Query Sentence: [\"Kilauea ' s 19 - day eruption showed no sign of easing , with repeated explosions at its summit and fountains of lava up to 160 feet ( 50 m ) from giant cracks or fissures on its flank .\"]\n",
      "Corresponding Video: Lava from Hawaiis erupting Kilauea volcano lit up the night on Tuesday (May 22) clipped_0_32.002.mp4\n",
      "Correctly Guessed on Index 0\n",
      "\n",
      "Guess 1: Lava from Hawaiis erupting Kilauea volcano lit up the night on Tuesday (May 22) clipped_0_32.002.mp4\n",
      "Guess 2: Missile Strikes Military Parade in Yemens Aden clipped_17.63_37.838.mp4\n",
      "Guess 3: Coronavirus Deserted Roads in Saudi Arabias Holy City Mecca clipped_41.474_55.91.mp4\n",
      "Guess 4: Putin Forever - BBC News clipped_248.014_275.639.mp4\n",
      "Guess 5: Hiroshima atomic bomb Survivor recalls horrors - BBC News clipped_0.011_17.147.mp4\n",
      "\n",
      "============= Test Sample 9 =============\n",
      "Query Sentence: ['👉 Riot police threw tear gas and protesters responded by throwing Molotov cocktails and setting up barricades made of bricks .']\n",
      "Corresponding Video: Police and Protesters Clash at Hong Kong Polytechnic University clipped_0_13.825.mp4\n",
      "Correctly Guessed on Index 4\n",
      "\n",
      "Guess 1: Police and Protesters Clash at Hong Kong Polytechnic University clipped_31.001_38.468.mp4\n",
      "Guess 2: Israeli Security Forces Clash with Palestinian Protesters in West Bank clipped_3.002_5.815.mp4\n",
      "Guess 3: Malawi Opposition Supporters Clash with Police as Election Results Challenged clipped_11.38_23.505.mp4\n",
      "Guess 4: China moves to impose controversial Hong Kong security law - BBC News clipped_99.426_119.176.mp4\n",
      "Guess 5: Police and Protesters Clash at Hong Kong Polytechnic University clipped_0_13.825.mp4\n",
      "\n",
      "============= Test Sample 10 =============\n",
      "Query Sentence: [\"The national security adviser to U . S . President Donald Trump denies any U . S . government involvement in Saturday ' s drone explosions in Venezuela ' s capital during President Nicolas Maduro ' s speech .\"]\n",
      "Corresponding Video: Bolton Denies Any US Involvement in Drone Attacks in Venezuela clipped_0.003_8.774.mp4\n",
      "Correctly Guessed on Index 46\n",
      "\n",
      "Guess 1: Coronavirus President Trump Cuts US Funding to WHO clipped_0_38.157.mp4\n",
      "Guess 2: Coronavirus Trump warns of very painful weeks ahead - BBC News clipped_23.557_86.748.mp4\n",
      "Guess 3: Blasts Heard at Ashraf Ghani Inauguration as Afghan President clipped_38.802_46.198.mp4\n",
      "Guess 4: New Zealand Mosque Attacks Send Shock Waves Throughout Muslim World clipped_63.389_86.389.mp4\n",
      "Guess 5: Senate Committee Holds Hearing into Fort Hood Attack clipped_116.027_155.277.mp4\n",
      "\n"
     ]
    }
   ],
   "source": [
    "for correct_idx, prob in enumerate(output[:10]):\n",
    "    corresponding_video = eval_file_names[correct_idx]\n",
    "    corresponding_sentences = video2sentence[corresponding_video]\n",
    "    \n",
    "    correct_idx_prob = prob[correct_idx]\n",
    "    sorted_x = np.sort(-prob)\n",
    "    correct_guessed_at = np.where(sorted_x+correct_idx_prob == 0)[0][0]\n",
    "    \n",
    "    print('============= Test Sample {} ============='.format(correct_idx+1))\n",
    "    print(\"Query Sentence: {}\".format(corresponding_sentences))\n",
    "    print(\"Corresponding Video: {}\".format(corresponding_video))\n",
    "    print(\"Correctly Guessed on Index {}\".format(correct_guessed_at))\n",
    "    print()\n",
    "    \n",
    "    \n",
    "    top_5_index = prob.argsort()[-5:][::-1]\n",
    "    for i,pred_idx in enumerate(top_5_index):\n",
    "        print(\"Guess {}: {}\".format(i+1,eval_file_names[pred_idx]))\n",
    "    print()\n",
    "    "
   ]
  },
  {
   "cell_type": "markdown",
   "metadata": {},
   "source": [
    "Notable ones \n",
    "- Sample 3 - mostly about corona and masks \n",
    "- Sample 4 - mostly about demonstrators \n",
    "- Sample 7 - mostly about violent protests "
   ]
  },
  {
   "cell_type": "code",
   "execution_count": null,
   "metadata": {},
   "outputs": [],
   "source": []
  }
 ],
 "metadata": {
  "kernelspec": {
   "display_name": "Python 3",
   "language": "python",
   "name": "python3"
  },
  "language_info": {
   "codemirror_mode": {
    "name": "ipython",
    "version": 3
   },
   "file_extension": ".py",
   "mimetype": "text/x-python",
   "name": "python",
   "nbconvert_exporter": "python",
   "pygments_lexer": "ipython3",
   "version": "3.7.9"
  }
 },
 "nbformat": 4,
 "nbformat_minor": 4
}
